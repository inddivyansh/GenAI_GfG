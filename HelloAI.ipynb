{
  "nbformat": 4,
  "nbformat_minor": 0,
  "metadata": {
    "colab": {
      "provenance": [],
      "authorship_tag": "ABX9TyPmHuFODK65lmpx/K1cPxGE",
      "include_colab_link": true
    },
    "kernelspec": {
      "name": "python3",
      "display_name": "Python 3"
    },
    "language_info": {
      "name": "python"
    }
  },
  "cells": [
    {
      "cell_type": "markdown",
      "metadata": {
        "id": "view-in-github",
        "colab_type": "text"
      },
      "source": [
        "<a href=\"https://colab.research.google.com/github/inddivyansh/GenAI_GfG/blob/main/HelloAI.ipynb\" target=\"_parent\"><img src=\"https://colab.research.google.com/assets/colab-badge.svg\" alt=\"Open In Colab\"/></a>"
      ]
    },
    {
      "cell_type": "markdown",
      "source": [
        "# Hello AI First Model"
      ],
      "metadata": {
        "id": "qehVwj-_on5p"
      }
    },
    {
      "cell_type": "code",
      "source": [
        "# pip install tensorflow"
      ],
      "metadata": {
        "id": "jaX3pAxPQkUb"
      },
      "execution_count": 252,
      "outputs": []
    },
    {
      "cell_type": "code",
      "source": [
        "from tensorflow.keras.datasets import mnist"
      ],
      "metadata": {
        "id": "3oEA9geQQqYp"
      },
      "execution_count": 253,
      "outputs": []
    },
    {
      "cell_type": "code",
      "source": [
        "(x_train, y_train), (x_test, y_test) = mnist.load_data()"
      ],
      "metadata": {
        "id": "sWuY0BLzRp54"
      },
      "execution_count": 254,
      "outputs": []
    },
    {
      "cell_type": "code",
      "source": [
        "x_train=x_train/255\n",
        "x_test=x_test/255"
      ],
      "metadata": {
        "id": "Ir2Vp4_nTltG"
      },
      "execution_count": 255,
      "outputs": []
    },
    {
      "cell_type": "code",
      "source": [
        "y_train = to_categorical(y_train, num_classes= 10)"
      ],
      "metadata": {
        "id": "B6ljP7C1guL9"
      },
      "execution_count": 256,
      "outputs": []
    },
    {
      "cell_type": "code",
      "source": [
        "y_test = to_categorical(y_test, num_classes= 10)"
      ],
      "metadata": {
        "id": "i7NfAH2Jgutx"
      },
      "execution_count": 257,
      "outputs": []
    },
    {
      "cell_type": "code",
      "source": [
        "import matplotlib.pyplot as plt\n",
        "plt.imshow(x_train[5])\n",
        "plt.title(f\"image label = {y_train[5]}\")\n",
        "plt.show()"
      ],
      "metadata": {
        "colab": {
          "base_uri": "https://localhost:8080/",
          "height": 452
        },
        "id": "Y24vTPUgR0ey",
        "outputId": "4b89e506-e3a0-46dd-9f81-c1f830a03ba0"
      },
      "execution_count": 258,
      "outputs": [
        {
          "output_type": "display_data",
          "data": {
            "text/plain": [
              "<Figure size 640x480 with 1 Axes>"
            ],
            "image/png": "[encoded data removed]"
          },
          "metadata": {}
        }
      ]
    },
    {
      "cell_type": "code",
      "source": [
        "import numpy as np\n",
        "np.unique(y_train)"
      ],
      "metadata": {
        "colab": {
          "base_uri": "https://localhost:8080/"
        },
        "id": "Zj_2KdvbVG6g",
        "outputId": "924218ee-1bcd-47da-d6da-fa6b064c9785"
      },
      "execution_count": 259,
      "outputs": [
        {
          "output_type": "execute_result",
          "data": {
            "text/plain": [
              "array([0., 1.])"
            ]
          },
          "metadata": {},
          "execution_count": 259
        }
      ]
    },
    {
      "cell_type": "code",
      "source": [
        "from tensorflow.keras.layers import Input, Dense, Flatten\n",
        "from tensorflow.keras.models import Sequential\n",
        "from tensorflow.keras.utils import to_categorical"
      ],
      "metadata": {
        "id": "5YZzxRAmdZOM"
      },
      "execution_count": 260,
      "outputs": []
    },
    {
      "cell_type": "code",
      "source": [
        "model = Sequential([\n",
        "      Input(shape=(28,28)),\n",
        "      Flatten(), # input layer neuron 784\n",
        "      Dense(5, activation= 'relu'), #hidden layer 5 neuron relu activation fucntion\n",
        "      Dense(10, activation='softmax') #output layer\n",
        "])"
      ],
      "metadata": {
        "collapsed": true,
        "id": "jWKY6FteUCoS"
      },
      "execution_count": 261,
      "outputs": []
    },
    {
      "cell_type": "code",
      "source": [
        "model.summary()\n"
      ],
      "metadata": {
        "colab": {
          "base_uri": "https://localhost:8080/",
          "height": 225
        },
        "id": "Vef_17enVzkb",
        "outputId": "8aba2b44-9243-4f07-f14f-d60dd0730f7d"
      },
      "execution_count": 262,
      "outputs": [
        {
          "output_type": "display_data",
          "data": {
            "text/plain": [
              "\u001b[1mModel: \"sequential_22\"\u001b[0m\n"
            ],
            "text/html": [
              "<pre style=\"white-space:pre;overflow-x:auto;line-height:normal;font-family:Menlo,'DejaVu Sans Mono',consolas,'Courier New',monospace\"><span style=\"font-weight: bold\">Model: \"sequential_22\"</span>\n",
              "</pre>\n"
            ]
          },
          "metadata": {}
        },
        {
          "output_type": "display_data",
          "data": {
            "text/plain": [
              "┏━━━━━━━━━━━━━━━━━━━━━━━━━━━━━━━━━┳━━━━━━━━━━━━━━━━━━━━━━━━┳━━━━━━━━━━━━━━━┓\n",
              "┃\u001b[1m \u001b[0m\u001b[1mLayer (type)                   \u001b[0m\u001b[1m \u001b[0m┃\u001b[1m \u001b[0m\u001b[1mOutput Shape          \u001b[0m\u001b[1m \u001b[0m┃\u001b[1m \u001b[0m\u001b[1m      Param #\u001b[0m\u001b[1m \u001b[0m┃\n",
              "┡━━━━━━━━━━━━━━━━━━━━━━━━━━━━━━━━━╇━━━━━━━━━━━━━━━━━━━━━━━━╇━━━━━━━━━━━━━━━┩\n",
              "│ flatten_21 (\u001b[38;5;33mFlatten\u001b[0m)            │ (\u001b[38;5;45mNone\u001b[0m, \u001b[38;5;34m784\u001b[0m)            │             \u001b[38;5;34m0\u001b[0m │\n",
              "├─────────────────────────────────┼────────────────────────┼───────────────┤\n",
              "│ dense_65 (\u001b[38;5;33mDense\u001b[0m)                │ (\u001b[38;5;45mNone\u001b[0m, \u001b[38;5;34m5\u001b[0m)              │         \u001b[38;5;34m3,925\u001b[0m │\n",
              "├─────────────────────────────────┼────────────────────────┼───────────────┤\n",
              "│ dense_66 (\u001b[38;5;33mDense\u001b[0m)                │ (\u001b[38;5;45mNone\u001b[0m, \u001b[38;5;34m10\u001b[0m)             │            \u001b[38;5;34m60\u001b[0m │\n",
              "└─────────────────────────────────┴────────────────────────┴───────────────┘\n"
            ],
            "text/html": [
              "<pre style=\"white-space:pre;overflow-x:auto;line-height:normal;font-family:Menlo,'DejaVu Sans Mono',consolas,'Courier New',monospace\">┏━━━━━━━━━━━━━━━━━━━━━━━━━━━━━━━━━┳━━━━━━━━━━━━━━━━━━━━━━━━┳━━━━━━━━━━━━━━━┓\n",
              "┃<span style=\"font-weight: bold\"> Layer (type)                    </span>┃<span style=\"font-weight: bold\"> Output Shape           </span>┃<span style=\"font-weight: bold\">       Param # </span>┃\n",
              "┡━━━━━━━━━━━━━━━━━━━━━━━━━━━━━━━━━╇━━━━━━━━━━━━━━━━━━━━━━━━╇━━━━━━━━━━━━━━━┩\n",
              "│ flatten_21 (<span style=\"color: #0087ff; text-decoration-color: #0087ff\">Flatten</span>)            │ (<span style=\"color: #00d7ff; text-decoration-color: #00d7ff\">None</span>, <span style=\"color: #00af00; text-decoration-color: #00af00\">784</span>)            │             <span style=\"color: #00af00; text-decoration-color: #00af00\">0</span> │\n",
              "├─────────────────────────────────┼────────────────────────┼───────────────┤\n",
              "│ dense_65 (<span style=\"color: #0087ff; text-decoration-color: #0087ff\">Dense</span>)                │ (<span style=\"color: #00d7ff; text-decoration-color: #00d7ff\">None</span>, <span style=\"color: #00af00; text-decoration-color: #00af00\">5</span>)              │         <span style=\"color: #00af00; text-decoration-color: #00af00\">3,925</span> │\n",
              "├─────────────────────────────────┼────────────────────────┼───────────────┤\n",
              "│ dense_66 (<span style=\"color: #0087ff; text-decoration-color: #0087ff\">Dense</span>)                │ (<span style=\"color: #00d7ff; text-decoration-color: #00d7ff\">None</span>, <span style=\"color: #00af00; text-decoration-color: #00af00\">10</span>)             │            <span style=\"color: #00af00; text-decoration-color: #00af00\">60</span> │\n",
              "└─────────────────────────────────┴────────────────────────┴───────────────┘\n",
              "</pre>\n"
            ]
          },
          "metadata": {}
        },
        {
          "output_type": "display_data",
          "data": {
            "text/plain": [
              "\u001b[1m Total params: \u001b[0m\u001b[38;5;34m3,985\u001b[0m (15.57 KB)\n"
            ],
            "text/html": [
              "<pre style=\"white-space:pre;overflow-x:auto;line-height:normal;font-family:Menlo,'DejaVu Sans Mono',consolas,'Courier New',monospace\"><span style=\"font-weight: bold\"> Total params: </span><span style=\"color: #00af00; text-decoration-color: #00af00\">3,985</span> (15.57 KB)\n",
              "</pre>\n"
            ]
          },
          "metadata": {}
        },
        {
          "output_type": "display_data",
          "data": {
            "text/plain": [
              "\u001b[1m Trainable params: \u001b[0m\u001b[38;5;34m3,985\u001b[0m (15.57 KB)\n"
            ],
            "text/html": [
              "<pre style=\"white-space:pre;overflow-x:auto;line-height:normal;font-family:Menlo,'DejaVu Sans Mono',consolas,'Courier New',monospace\"><span style=\"font-weight: bold\"> Trainable params: </span><span style=\"color: #00af00; text-decoration-color: #00af00\">3,985</span> (15.57 KB)\n",
              "</pre>\n"
            ]
          },
          "metadata": {}
        },
        {
          "output_type": "display_data",
          "data": {
            "text/plain": [
              "\u001b[1m Non-trainable params: \u001b[0m\u001b[38;5;34m0\u001b[0m (0.00 B)\n"
            ],
            "text/html": [
              "<pre style=\"white-space:pre;overflow-x:auto;line-height:normal;font-family:Menlo,'DejaVu Sans Mono',consolas,'Courier New',monospace\"><span style=\"font-weight: bold\"> Non-trainable params: </span><span style=\"color: #00af00; text-decoration-color: #00af00\">0</span> (0.00 B)\n",
              "</pre>\n"
            ]
          },
          "metadata": {}
        }
      ]
    },
    {
      "cell_type": "code",
      "source": [
        "model.compile(optimizer='adam', loss='categorical_crossentropy', metrics=['accuracy'])"
      ],
      "metadata": {
        "id": "b5sCd7N5XTi0"
      },
      "execution_count": 263,
      "outputs": []
    },
    {
      "cell_type": "code",
      "source": [
        "model.fit(x_train, y_train, epochs=5,batch_size=32, verbose=2)"
      ],
      "metadata": {
        "colab": {
          "base_uri": "https://localhost:8080/"
        },
        "id": "3GFeeknlYCRM",
        "outputId": "7a76968d-ef45-4284-e860-0d22b04542d6"
      },
      "execution_count": 264,
      "outputs": [
        {
          "output_type": "stream",
          "name": "stdout",
          "text": [
            "Epoch 1/5\n",
            "1875/1875 - 4s - 2ms/step - accuracy: 0.7301 - loss: 0.9052\n",
            "Epoch 2/5\n",
            "1875/1875 - 5s - 3ms/step - accuracy: 0.8519 - loss: 0.5247\n",
            "Epoch 3/5\n",
            "1875/1875 - 5s - 3ms/step - accuracy: 0.8686 - loss: 0.4748\n",
            "Epoch 4/5\n",
            "1875/1875 - 4s - 2ms/step - accuracy: 0.8751 - loss: 0.4520\n",
            "Epoch 5/5\n",
            "1875/1875 - 4s - 2ms/step - accuracy: 0.8798 - loss: 0.4363\n"
          ]
        },
        {
          "output_type": "execute_result",
          "data": {
            "text/plain": [
              "<keras.src.callbacks.history.History at 0x7daf1d424b10>"
            ]
          },
          "metadata": {},
          "execution_count": 264
        }
      ]
    },
    {
      "cell_type": "code",
      "source": [
        "model.evaluate(x_test, y_test)"
      ],
      "metadata": {
        "colab": {
          "base_uri": "https://localhost:8080/"
        },
        "id": "hmSRAKYNcRmo",
        "outputId": "f3621d18-abb2-42b9-c81a-d1ca622ff6ea"
      },
      "execution_count": 265,
      "outputs": [
        {
          "output_type": "stream",
          "name": "stdout",
          "text": [
            "\u001b[1m313/313\u001b[0m \u001b[32m━━━━━━━━━━━━━━━━━━━━\u001b[0m\u001b[37m\u001b[0m \u001b[1m1s\u001b[0m 2ms/step - accuracy: 0.8666 - loss: 0.4683\n"
          ]
        },
        {
          "output_type": "execute_result",
          "data": {
            "text/plain": [
              "[0.4191063344478607, 0.882099986076355]"
            ]
          },
          "metadata": {},
          "execution_count": 265
        }
      ]
    },
    {
      "cell_type": "code",
      "source": [
        "model.save('my_model.keras')"
      ],
      "metadata": {
        "id": "9q6T9-NrhmAd"
      },
      "execution_count": 266,
      "outputs": []
    },
    {
      "cell_type": "code",
      "source": [
        "model.get_weights()"
      ],
      "metadata": {
        "colab": {
          "base_uri": "https://localhost:8080/"
        },
        "id": "BXiWb_JnnJVK",
        "outputId": "8650fb7a-dd5c-43a0-ac44-41e97ecb1280"
      },
      "execution_count": 267,
      "outputs": [
        {
          "output_type": "execute_result",
          "data": {
            "text/plain": [
              "[array([[ 0.06455261, -0.03089431,  0.0136207 ,  0.0243687 , -0.03252997],\n",
              "        [ 0.07654387,  0.01042049,  0.01642536,  0.05439377, -0.05744582],\n",
              "        [ 0.01873703, -0.05502659,  0.02781022,  0.06363989, -0.07030912],\n",
              "        ...,\n",
              "        [-0.05481125,  0.05798027,  0.07493711,  0.07212938,  0.07777756],\n",
              "        [-0.01114194, -0.05423715, -0.01809991, -0.04920269, -0.03317495],\n",
              "        [ 0.01311936,  0.07118014, -0.04592446, -0.07333821, -0.02483747]],\n",
              "       dtype=float32),\n",
              " array([0.20302615, 0.35766274, 0.01734363, 0.49633217, 0.22258517],\n",
              "       dtype=float32),\n",
              " array([[-0.5663654 ,  0.6672114 ,  0.01347039,  0.53545225, -1.2274109 ,\n",
              "          0.46754792, -0.65443766, -0.82581973,  0.27355796, -1.008977  ],\n",
              "        [ 0.49652117, -1.8313658 , -0.04062137, -1.0308429 ,  0.33731177,\n",
              "          0.20883021, -1.2125993 ,  0.04257478,  0.180212  , -0.87672836],\n",
              "        [-0.7899749 , -0.04086749,  1.006156  , -0.16595788,  0.30235854,\n",
              "         -1.1763911 , -0.8417102 ,  0.6855291 ,  0.14544901,  0.17179604],\n",
              "        [-1.195989  ,  0.42737833, -1.0596398 , -0.42523792,  0.5226278 ,\n",
              "         -0.26167297,  0.9623574 , -0.4620711 , -0.11370121,  0.5506054 ],\n",
              "        [ 0.87897617, -1.2389133 , -0.42475283,  0.31526592, -0.7215306 ,\n",
              "          0.02402847, -1.4182388 ,  0.5825528 , -0.36931503,  0.28406185]],\n",
              "       dtype=float32),\n",
              " array([ 1.3155978 , -0.9324333 ,  1.0764987 , -0.3393234 , -0.5550542 ,\n",
              "         0.59979254,  2.4331174 , -1.0763463 , -0.84561795, -1.0969039 ],\n",
              "       dtype=float32)]"
            ]
          },
          "metadata": {},
          "execution_count": 267
        }
      ]
    },
    {
      "cell_type": "markdown",
      "source": [
        "# **Complex Neural Network**"
      ],
      "metadata": {
        "id": "ObFkSN6UogA7"
      }
    },
    {
      "cell_type": "code",
      "source": [
        "from keras.models import Model\n",
        "from keras.layers import Input, Flatten, Dense, concatenate"
      ],
      "metadata": {
        "id": "5yBAZRMHnM4-"
      },
      "execution_count": 283,
      "outputs": []
    },
    {
      "cell_type": "code",
      "source": [
        "input_layer = Input(shape=(28,28))\n",
        "flatten=Flatten()(input_layer)\n",
        "hidden1 = Dense(128, activation='relu')(flatten)\n",
        "hidden2 = Dense(160, activation='relu')(flatten)\n",
        "hidden11 = Dense(64, activation='relu')(hidden1)\n",
        "merge = concatenate([hidden11, hidden2])\n",
        "output_layer = Dense(10, activation='softmax')(merge)"
      ],
      "metadata": {
        "collapsed": true,
        "id": "g05alERPo0PN"
      },
      "execution_count": 284,
      "outputs": []
    },
    {
      "cell_type": "code",
      "source": [
        "model = Model(inputs=input_layer, outputs=output_layer)"
      ],
      "metadata": {
        "id": "zgcWQfPLp92C"
      },
      "execution_count": 285,
      "outputs": []
    },
    {
      "cell_type": "code",
      "source": [
        "model.summary()"
      ],
      "metadata": {
        "colab": {
          "base_uri": "https://localhost:8080/",
          "height": 401
        },
        "id": "oJ5coXeUqMpt",
        "outputId": "c6c918c2-0036-4e27-9e8a-6e4c0f06934e"
      },
      "execution_count": 286,
      "outputs": [
        {
          "output_type": "display_data",
          "data": {
            "text/plain": [
              "\u001b[1mModel: \"functional_25\"\u001b[0m\n"
            ],
            "text/html": [
              "<pre style=\"white-space:pre;overflow-x:auto;line-height:normal;font-family:Menlo,'DejaVu Sans Mono',consolas,'Courier New',monospace\"><span style=\"font-weight: bold\">Model: \"functional_25\"</span>\n",
              "</pre>\n"
            ]
          },
          "metadata": {}
        },
        {
          "output_type": "display_data",
          "data": {
            "text/plain": [
              "┏━━━━━━━━━━━━━━━━━━━━━┳━━━━━━━━━━━━━━━━━━━┳━━━━━━━━━━━━┳━━━━━━━━━━━━━━━━━━━┓\n",
              "┃\u001b[1m \u001b[0m\u001b[1mLayer (type)       \u001b[0m\u001b[1m \u001b[0m┃\u001b[1m \u001b[0m\u001b[1mOutput Shape     \u001b[0m\u001b[1m \u001b[0m┃\u001b[1m \u001b[0m\u001b[1m   Param #\u001b[0m\u001b[1m \u001b[0m┃\u001b[1m \u001b[0m\u001b[1mConnected to     \u001b[0m\u001b[1m \u001b[0m┃\n",
              "┡━━━━━━━━━━━━━━━━━━━━━╇━━━━━━━━━━━━━━━━━━━╇━━━━━━━━━━━━╇━━━━━━━━━━━━━━━━━━━┩\n",
              "│ input_layer_28      │ (\u001b[38;5;45mNone\u001b[0m, \u001b[38;5;34m28\u001b[0m, \u001b[38;5;34m28\u001b[0m)    │          \u001b[38;5;34m0\u001b[0m │ -                 │\n",
              "│ (\u001b[38;5;33mInputLayer\u001b[0m)        │                   │            │                   │\n",
              "├─────────────────────┼───────────────────┼────────────┼───────────────────┤\n",
              "│ flatten_26          │ (\u001b[38;5;45mNone\u001b[0m, \u001b[38;5;34m784\u001b[0m)       │          \u001b[38;5;34m0\u001b[0m │ input_layer_28[\u001b[38;5;34m0\u001b[0m… │\n",
              "│ (\u001b[38;5;33mFlatten\u001b[0m)           │                   │            │                   │\n",
              "├─────────────────────┼───────────────────┼────────────┼───────────────────┤\n",
              "│ dense_83 (\u001b[38;5;33mDense\u001b[0m)    │ (\u001b[38;5;45mNone\u001b[0m, \u001b[38;5;34m128\u001b[0m)       │    \u001b[38;5;34m100,480\u001b[0m │ flatten_26[\u001b[38;5;34m0\u001b[0m][\u001b[38;5;34m0\u001b[0m]  │\n",
              "├─────────────────────┼───────────────────┼────────────┼───────────────────┤\n",
              "│ dense_85 (\u001b[38;5;33mDense\u001b[0m)    │ (\u001b[38;5;45mNone\u001b[0m, \u001b[38;5;34m64\u001b[0m)        │      \u001b[38;5;34m8,256\u001b[0m │ dense_83[\u001b[38;5;34m0\u001b[0m][\u001b[38;5;34m0\u001b[0m]    │\n",
              "├─────────────────────┼───────────────────┼────────────┼───────────────────┤\n",
              "│ dense_84 (\u001b[38;5;33mDense\u001b[0m)    │ (\u001b[38;5;45mNone\u001b[0m, \u001b[38;5;34m160\u001b[0m)       │    \u001b[38;5;34m125,600\u001b[0m │ flatten_26[\u001b[38;5;34m0\u001b[0m][\u001b[38;5;34m0\u001b[0m]  │\n",
              "├─────────────────────┼───────────────────┼────────────┼───────────────────┤\n",
              "│ concatenate_9       │ (\u001b[38;5;45mNone\u001b[0m, \u001b[38;5;34m224\u001b[0m)       │          \u001b[38;5;34m0\u001b[0m │ dense_85[\u001b[38;5;34m0\u001b[0m][\u001b[38;5;34m0\u001b[0m],   │\n",
              "│ (\u001b[38;5;33mConcatenate\u001b[0m)       │                   │            │ dense_84[\u001b[38;5;34m0\u001b[0m][\u001b[38;5;34m0\u001b[0m]    │\n",
              "├─────────────────────┼───────────────────┼────────────┼───────────────────┤\n",
              "│ dense_86 (\u001b[38;5;33mDense\u001b[0m)    │ (\u001b[38;5;45mNone\u001b[0m, \u001b[38;5;34m10\u001b[0m)        │      \u001b[38;5;34m2,250\u001b[0m │ concatenate_9[\u001b[38;5;34m0\u001b[0m]… │\n",
              "└─────────────────────┴───────────────────┴────────────┴───────────────────┘\n"
            ],
            "text/html": [
              "<pre style=\"white-space:pre;overflow-x:auto;line-height:normal;font-family:Menlo,'DejaVu Sans Mono',consolas,'Courier New',monospace\">┏━━━━━━━━━━━━━━━━━━━━━┳━━━━━━━━━━━━━━━━━━━┳━━━━━━━━━━━━┳━━━━━━━━━━━━━━━━━━━┓\n",
              "┃<span style=\"font-weight: bold\"> Layer (type)        </span>┃<span style=\"font-weight: bold\"> Output Shape      </span>┃<span style=\"font-weight: bold\">    Param # </span>┃<span style=\"font-weight: bold\"> Connected to      </span>┃\n",
              "┡━━━━━━━━━━━━━━━━━━━━━╇━━━━━━━━━━━━━━━━━━━╇━━━━━━━━━━━━╇━━━━━━━━━━━━━━━━━━━┩\n",
              "│ input_layer_28      │ (<span style=\"color: #00d7ff; text-decoration-color: #00d7ff\">None</span>, <span style=\"color: #00af00; text-decoration-color: #00af00\">28</span>, <span style=\"color: #00af00; text-decoration-color: #00af00\">28</span>)    │          <span style=\"color: #00af00; text-decoration-color: #00af00\">0</span> │ -                 │\n",
              "│ (<span style=\"color: #0087ff; text-decoration-color: #0087ff\">InputLayer</span>)        │                   │            │                   │\n",
              "├─────────────────────┼───────────────────┼────────────┼───────────────────┤\n",
              "│ flatten_26          │ (<span style=\"color: #00d7ff; text-decoration-color: #00d7ff\">None</span>, <span style=\"color: #00af00; text-decoration-color: #00af00\">784</span>)       │          <span style=\"color: #00af00; text-decoration-color: #00af00\">0</span> │ input_layer_28[<span style=\"color: #00af00; text-decoration-color: #00af00\">0</span>… │\n",
              "│ (<span style=\"color: #0087ff; text-decoration-color: #0087ff\">Flatten</span>)           │                   │            │                   │\n",
              "├─────────────────────┼───────────────────┼────────────┼───────────────────┤\n",
              "│ dense_83 (<span style=\"color: #0087ff; text-decoration-color: #0087ff\">Dense</span>)    │ (<span style=\"color: #00d7ff; text-decoration-color: #00d7ff\">None</span>, <span style=\"color: #00af00; text-decoration-color: #00af00\">128</span>)       │    <span style=\"color: #00af00; text-decoration-color: #00af00\">100,480</span> │ flatten_26[<span style=\"color: #00af00; text-decoration-color: #00af00\">0</span>][<span style=\"color: #00af00; text-decoration-color: #00af00\">0</span>]  │\n",
              "├─────────────────────┼───────────────────┼────────────┼───────────────────┤\n",
              "│ dense_85 (<span style=\"color: #0087ff; text-decoration-color: #0087ff\">Dense</span>)    │ (<span style=\"color: #00d7ff; text-decoration-color: #00d7ff\">None</span>, <span style=\"color: #00af00; text-decoration-color: #00af00\">64</span>)        │      <span style=\"color: #00af00; text-decoration-color: #00af00\">8,256</span> │ dense_83[<span style=\"color: #00af00; text-decoration-color: #00af00\">0</span>][<span style=\"color: #00af00; text-decoration-color: #00af00\">0</span>]    │\n",
              "├─────────────────────┼───────────────────┼────────────┼───────────────────┤\n",
              "│ dense_84 (<span style=\"color: #0087ff; text-decoration-color: #0087ff\">Dense</span>)    │ (<span style=\"color: #00d7ff; text-decoration-color: #00d7ff\">None</span>, <span style=\"color: #00af00; text-decoration-color: #00af00\">160</span>)       │    <span style=\"color: #00af00; text-decoration-color: #00af00\">125,600</span> │ flatten_26[<span style=\"color: #00af00; text-decoration-color: #00af00\">0</span>][<span style=\"color: #00af00; text-decoration-color: #00af00\">0</span>]  │\n",
              "├─────────────────────┼───────────────────┼────────────┼───────────────────┤\n",
              "│ concatenate_9       │ (<span style=\"color: #00d7ff; text-decoration-color: #00d7ff\">None</span>, <span style=\"color: #00af00; text-decoration-color: #00af00\">224</span>)       │          <span style=\"color: #00af00; text-decoration-color: #00af00\">0</span> │ dense_85[<span style=\"color: #00af00; text-decoration-color: #00af00\">0</span>][<span style=\"color: #00af00; text-decoration-color: #00af00\">0</span>],   │\n",
              "│ (<span style=\"color: #0087ff; text-decoration-color: #0087ff\">Concatenate</span>)       │                   │            │ dense_84[<span style=\"color: #00af00; text-decoration-color: #00af00\">0</span>][<span style=\"color: #00af00; text-decoration-color: #00af00\">0</span>]    │\n",
              "├─────────────────────┼───────────────────┼────────────┼───────────────────┤\n",
              "│ dense_86 (<span style=\"color: #0087ff; text-decoration-color: #0087ff\">Dense</span>)    │ (<span style=\"color: #00d7ff; text-decoration-color: #00d7ff\">None</span>, <span style=\"color: #00af00; text-decoration-color: #00af00\">10</span>)        │      <span style=\"color: #00af00; text-decoration-color: #00af00\">2,250</span> │ concatenate_9[<span style=\"color: #00af00; text-decoration-color: #00af00\">0</span>]… │\n",
              "└─────────────────────┴───────────────────┴────────────┴───────────────────┘\n",
              "</pre>\n"
            ]
          },
          "metadata": {}
        },
        {
          "output_type": "display_data",
          "data": {
            "text/plain": [
              "\u001b[1m Total params: \u001b[0m\u001b[38;5;34m236,586\u001b[0m (924.16 KB)\n"
            ],
            "text/html": [
              "<pre style=\"white-space:pre;overflow-x:auto;line-height:normal;font-family:Menlo,'DejaVu Sans Mono',consolas,'Courier New',monospace\"><span style=\"font-weight: bold\"> Total params: </span><span style=\"color: #00af00; text-decoration-color: #00af00\">236,586</span> (924.16 KB)\n",
              "</pre>\n"
            ]
          },
          "metadata": {}
        },
        {
          "output_type": "display_data",
          "data": {
            "text/plain": [
              "\u001b[1m Trainable params: \u001b[0m\u001b[38;5;34m236,586\u001b[0m (924.16 KB)\n"
            ],
            "text/html": [
              "<pre style=\"white-space:pre;overflow-x:auto;line-height:normal;font-family:Menlo,'DejaVu Sans Mono',consolas,'Courier New',monospace\"><span style=\"font-weight: bold\"> Trainable params: </span><span style=\"color: #00af00; text-decoration-color: #00af00\">236,586</span> (924.16 KB)\n",
              "</pre>\n"
            ]
          },
          "metadata": {}
        },
        {
          "output_type": "display_data",
          "data": {
            "text/plain": [
              "\u001b[1m Non-trainable params: \u001b[0m\u001b[38;5;34m0\u001b[0m (0.00 B)\n"
            ],
            "text/html": [
              "<pre style=\"white-space:pre;overflow-x:auto;line-height:normal;font-family:Menlo,'DejaVu Sans Mono',consolas,'Courier New',monospace\"><span style=\"font-weight: bold\"> Non-trainable params: </span><span style=\"color: #00af00; text-decoration-color: #00af00\">0</span> (0.00 B)\n",
              "</pre>\n"
            ]
          },
          "metadata": {}
        }
      ]
    },
    {
      "cell_type": "code",
      "source": [
        "from keras.utils import plot_model\n",
        "\n",
        "plot_model(model)"
      ],
      "metadata": {
        "colab": {
          "base_uri": "https://localhost:8080/",
          "height": 1000
        },
        "id": "ldjFzn92qlrs",
        "outputId": "408a92b7-e8e1-4c21-b5b4-b95130c30796"
      },
      "execution_count": 287,
      "outputs": [
        {
          "output_type": "execute_result",
          "data": {
            "image/png": "[encoded data removed]",
            "text/plain": [
              "<IPython.core.display.Image object>"
            ]
          },
          "metadata": {},
          "execution_count": 287
        }
      ]
    },
    {
      "cell_type": "code",
      "source": [
        "model.compile(optimizer='adam', loss='categorical_crossentropy', metrics=['accuracy'])"
      ],
      "metadata": {
        "id": "l3jGr2n9r0JP"
      },
      "execution_count": 288,
      "outputs": []
    },
    {
      "cell_type": "code",
      "source": [
        "model.fit(x_train, y_train, epochs=5,batch_size=32, verbose=2)"
      ],
      "metadata": {
        "colab": {
          "base_uri": "https://localhost:8080/"
        },
        "id": "LKjGV4vvr5qg",
        "outputId": "b87126f7-9c3b-4208-ff69-25a5c6a8c5d8"
      },
      "execution_count": 289,
      "outputs": [
        {
          "output_type": "stream",
          "name": "stdout",
          "text": [
            "Epoch 1/5\n",
            "1875/1875 - 11s - 6ms/step - accuracy: 0.9384 - loss: 0.2104\n",
            "Epoch 2/5\n",
            "1875/1875 - 9s - 5ms/step - accuracy: 0.9743 - loss: 0.0838\n",
            "Epoch 3/5\n",
            "1875/1875 - 8s - 4ms/step - accuracy: 0.9822 - loss: 0.0554\n",
            "Epoch 4/5\n",
            "1875/1875 - 11s - 6ms/step - accuracy: 0.9861 - loss: 0.0426\n",
            "Epoch 5/5\n",
            "1875/1875 - 9s - 5ms/step - accuracy: 0.9898 - loss: 0.0306\n"
          ]
        },
        {
          "output_type": "execute_result",
          "data": {
            "text/plain": [
              "<keras.src.callbacks.history.History at 0x7daef19a49d0>"
            ]
          },
          "metadata": {},
          "execution_count": 289
        }
      ]
    },
    {
      "cell_type": "code",
      "source": [
        "model.evaluate(x_test, y_test)"
      ],
      "metadata": {
        "colab": {
          "base_uri": "https://localhost:8080/"
        },
        "id": "etDDgiNxtQva",
        "outputId": "b27fa382-25ff-4b9c-abc7-7333a4d15f54"
      },
      "execution_count": 290,
      "outputs": [
        {
          "output_type": "stream",
          "name": "stdout",
          "text": [
            "\u001b[1m313/313\u001b[0m \u001b[32m━━━━━━━━━━━━━━━━━━━━\u001b[0m\u001b[37m\u001b[0m \u001b[1m1s\u001b[0m 2ms/step - accuracy: 0.9766 - loss: 0.0816\n"
          ]
        },
        {
          "output_type": "execute_result",
          "data": {
            "text/plain": [
              "[0.06816386431455612, 0.9799000024795532]"
            ]
          },
          "metadata": {},
          "execution_count": 290
        }
      ]
    },
    {
      "cell_type": "code",
      "source": [
        "model.save('my_model.keras')"
      ],
      "metadata": {
        "id": "OL6FeYShtXEm"
      },
      "execution_count": 294,
      "outputs": []
    },
    {
      "cell_type": "code",
      "source": [
        "model.weights"
      ],
      "metadata": {
        "colab": {
          "base_uri": "https://localhost:8080/"
        },
        "id": "KRA0VY4ataTg",
        "outputId": "7e9d1303-bb80-4fac-fec8-d1fb483d4da9"
      },
      "execution_count": 293,
      "outputs": [
        {
          "output_type": "execute_result",
          "data": {
            "text/plain": [
              "[<Variable path=dense_83/kernel, shape=(784, 128), dtype=float32, value=[[ 0.05038453  0.05039909  0.04312739 ...  0.04862268 -0.06154847\n",
              "   -0.05586566]\n",
              "  [-0.06257669  0.00550776 -0.06666753 ...  0.04571133  0.02010841\n",
              "    0.04647314]\n",
              "  [ 0.06235341  0.00722935  0.059355   ...  0.03530764 -0.06834107\n",
              "   -0.00378064]\n",
              "  ...\n",
              "  [ 0.01153367 -0.03402069 -0.01819046 ...  0.05158696 -0.01954387\n",
              "   -0.03185778]\n",
              "  [-0.05497993  0.04103984 -0.06634203 ...  0.07568338 -0.04020784\n",
              "    0.06264327]\n",
              "  [ 0.00489195  0.04494176  0.07577933 ...  0.06961083 -0.06423762\n",
              "   -0.04368652]]>,\n",
              " <Variable path=dense_83/bias, shape=(128,), dtype=float32, value=[-0.06895003  0.06173591  0.00632999  0.05350519 -0.00692617 -0.02295831\n",
              "   0.04013384 -0.04188935  0.03645942  0.035522   -0.00722414  0.01331038\n",
              "   0.09648366 -0.03864402  0.02258269  0.03354201  0.10133371 -0.00293251\n",
              "   0.01891249 -0.03252614  0.02874864 -0.01660677 -0.00908926  0.08554008\n",
              "  -0.00089321  0.02672356 -0.02305946  0.04364828 -0.01402971 -0.03510683\n",
              "  -0.12479562 -0.04624386  0.06308809  0.09896026 -0.10064194 -0.05103298\n",
              "   0.00108208  0.11619133 -0.02589143  0.01397555  0.03391585  0.02536286\n",
              "   0.01355787  0.02011444  0.08083795 -0.0381237   0.12546133  0.0448957\n",
              "   0.05918961  0.06933605 -0.04012501 -0.01110911 -0.05873634  0.09795305\n",
              "  -0.0174869   0.05539824  0.05719713  0.01760304  0.0879601   0.04998657\n",
              "   0.09919304 -0.02413798  0.07659498  0.10701822 -0.0385197   0.00359642\n",
              "  -0.0851757   0.05009123 -0.12256194 -0.01798132 -0.05597031  0.03217159\n",
              "  -0.0256112  -0.02329682  0.07851185  0.0262258   0.08138439 -0.02001397\n",
              "   0.06335673  0.00662004 -0.08009747 -0.01253     0.02796243 -0.04963606\n",
              "   0.10729542  0.07289177  0.06856562 -0.02929173  0.01426842  0.00595358\n",
              "   0.06832709  0.13596176  0.01282238 -0.05942686  0.08200891  0.00461133\n",
              "  -0.03009026  0.06416787  0.00842246  0.02455584  0.00262215  0.0827629\n",
              "  -0.06832485  0.01123722 -0.02517602 -0.010245   -0.06318541 -0.01988054\n",
              "   0.01792711 -0.00318321 -0.07648308  0.00944762  0.06679845  0.00701382\n",
              "   0.01136386  0.00914749 -0.01433748 -0.02617117  0.07057093 -0.00585634\n",
              "   0.10019172 -0.0064073   0.06233981  0.01294871 -0.04944826  0.013565\n",
              "   0.09713275 -0.04732831]>,\n",
              " <Variable path=dense_85/kernel, shape=(128, 64), dtype=float32, value=[[-0.1107223   0.05543976  0.07922473 ... -0.20285201  0.11594645\n",
              "   -0.03187514]\n",
              "  [ 0.20618555 -0.23673828  0.21938615 ...  0.03277386  0.07376264\n",
              "    0.02105454]\n",
              "  [ 0.14293383 -0.08435712  0.3615682  ...  0.04930456 -0.02850095\n",
              "    0.00871373]\n",
              "  ...\n",
              "  [-0.09386046  0.15618832 -0.27122995 ...  0.10616892 -0.15571928\n",
              "    0.19457175]\n",
              "  [ 0.24645239  0.08021449 -0.21630083 ... -0.08587066 -0.17028683\n",
              "    0.10076277]\n",
              "  [-0.27251452 -0.42149338 -0.14050317 ... -0.23491836 -0.2126801\n",
              "   -0.19749075]]>,\n",
              " <Variable path=dense_85/bias, shape=(64,), dtype=float32, value=[ 0.01719624  0.00471836 -0.05763429 -0.01054225  0.16545673 -0.032387\n",
              "   0.03836572  0.17473775  0.08955113 -0.02375735 -0.03919468  0.09573679\n",
              "   0.1679425   0.06218504  0.14167057  0.03786883 -0.04289543  0.02572032\n",
              "  -0.09441071 -0.06877534  0.02833539  0.05910904  0.10807671 -0.00988804\n",
              "   0.07177591  0.09966442  0.08688485  0.05797471  0.10260804 -0.13098177\n",
              "  -0.05324956  0.11299482  0.02712597  0.21343565  0.00044536 -0.01700801\n",
              "  -0.00198652 -0.03083949 -0.00508151 -0.06204347 -0.05596048 -0.07186987\n",
              "  -0.02871548 -0.01745994  0.07363424  0.06333449  0.09980974 -0.04651022\n",
              "   0.09658749 -0.09566997  0.06490249  0.01364017  0.10407394  0.05031079\n",
              "   0.10551724 -0.06040495 -0.00866023 -0.02937545  0.08190203 -0.05269726\n",
              "   0.00343933 -0.00683712  0.03639002 -0.10287952]>,\n",
              " <Variable path=dense_84/kernel, shape=(784, 160), dtype=float32, value=[[-0.03025772 -0.04622891  0.04449666 ...  0.06087272  0.0370789\n",
              "   -0.0427808 ]\n",
              "  [-0.04108506  0.03030418  0.07606088 ...  0.07639064  0.07462506\n",
              "    0.02768492]\n",
              "  [-0.04733423  0.03053596  0.02223063 ... -0.02158118 -0.03385683\n",
              "   -0.02484558]\n",
              "  ...\n",
              "  [ 0.01898745 -0.01489376  0.00255441 ... -0.05786239 -0.02933159\n",
              "    0.03876063]\n",
              "  [-0.03717984 -0.00451602 -0.04458906 ... -0.02397172  0.05108306\n",
              "    0.05383316]\n",
              "  [-0.06209153  0.05600591  0.06332421 ... -0.02407058  0.05133681\n",
              "    0.04663841]]>,\n",
              " <Variable path=dense_84/bias, shape=(160,), dtype=float32, value=[ 7.51169631e-03  2.62665004e-02  6.25948757e-02  6.64435029e-02\n",
              "  -7.54994713e-03 -6.95286468e-02  6.29258826e-02 -2.98597459e-02\n",
              "   4.51707467e-02  3.64518426e-02 -1.41898310e-03 -7.07530305e-02\n",
              "   7.10218102e-02  1.60848908e-02 -4.32883650e-02 -3.47035304e-02\n",
              "   3.42131667e-02  2.75210738e-02 -1.50059804e-01  1.75607875e-01\n",
              "   9.10888147e-03  1.26815401e-02  5.16455658e-02  6.29195292e-03\n",
              "  -5.40411007e-03  9.40612778e-02  1.37796858e-02 -5.95559068e-02\n",
              "   2.72452701e-02  2.49614753e-02  4.34102528e-02 -3.16400616e-03\n",
              "   6.08675629e-02 -1.96956843e-02  1.53307419e-03 -1.91665813e-02\n",
              "  -2.26649437e-02  2.38435883e-02  3.04381773e-02  4.73808013e-02\n",
              "   1.24515444e-02  1.17578074e-01  7.33374804e-03  2.43498050e-02\n",
              "  -5.28744934e-03  1.13042161e-01 -2.99527950e-04 -6.20612279e-02\n",
              "  -3.08701415e-02  8.77182856e-02  7.12643117e-02 -6.46065697e-02\n",
              "   3.89940478e-02 -4.95731123e-02  9.77494046e-02 -4.40242514e-02\n",
              "  -1.87326707e-02  1.04518272e-02  2.18207892e-02 -2.04209816e-02\n",
              "  -8.55064765e-02 -6.49001077e-02 -2.64523029e-02  3.57871577e-02\n",
              "   3.03696860e-02 -1.41456304e-02 -1.03137411e-01  8.86430740e-02\n",
              "   1.95131134e-02  1.22242168e-01  2.59344298e-02 -9.67232585e-02\n",
              "  -1.07031632e-02  2.74473839e-02  7.25338310e-02 -3.98710333e-02\n",
              "  -2.99546570e-02 -1.64052900e-02  3.40782776e-02 -3.82970385e-02\n",
              "   9.10880510e-03 -1.95438173e-02 -3.49059654e-03 -6.21845908e-02\n",
              "  -7.29428902e-02  3.11535504e-02 -3.63773741e-02 -6.19912557e-02\n",
              "  -9.64264665e-03 -9.86694172e-02  9.28606745e-03  4.32440080e-02\n",
              "  -6.44932985e-02 -4.68890416e-03  7.35470653e-02  8.41402039e-02\n",
              "   2.04459503e-02  4.66966107e-02 -3.06026861e-02  3.06198280e-02\n",
              "   2.41204463e-02  2.19779019e-03  3.83998416e-02 -9.14646219e-03\n",
              "   2.39176154e-02  9.39013436e-03  1.00356434e-02 -3.63655649e-02\n",
              "   7.53422920e-03  2.95636002e-02 -3.36532965e-02  2.65540127e-02\n",
              "  -2.29531173e-02  9.73049253e-02 -4.43416685e-02 -1.20801711e-02\n",
              "  -4.12667636e-03  3.32185216e-02 -1.21652652e-02 -1.05262496e-01\n",
              "   3.63949388e-02  1.20341778e-02  2.72852033e-02 -3.77188139e-02\n",
              "   1.61299075e-04 -5.76904789e-03 -7.16925180e-03  6.39162138e-02\n",
              "   8.10861737e-02  1.34341447e-02  5.76425483e-03 -2.11046152e-02\n",
              "   1.14535600e-01  7.58621842e-02 -1.54959848e-02  2.19834577e-02\n",
              "   4.08912003e-02 -3.72350812e-02  4.56738211e-02  4.15336378e-02\n",
              "   1.48548028e-02 -5.49938604e-02  4.18226458e-02 -5.36053702e-02\n",
              "   4.90729958e-02 -1.59737971e-02  5.49387075e-02  1.15096204e-01\n",
              "   5.64200543e-02 -2.62919813e-02 -7.14450851e-02  1.31287035e-02\n",
              "   1.62079297e-02  1.43454811e-02  1.16383908e-02 -2.99796741e-02\n",
              "   7.75009841e-02  1.33117542e-01 -3.41388583e-02 -2.02882625e-02]>,\n",
              " <Variable path=dense_86/kernel, shape=(224, 10), dtype=float32, value=[[-0.24064475 -0.03235621 -0.33197588 ...  0.10630673 -0.19692491\n",
              "   -0.11497267]\n",
              "  [ 0.03079125  0.3478963  -0.09428874 ...  0.14406013 -0.1636884\n",
              "   -0.06089574]\n",
              "  [-0.19694668  0.00856143  0.12701167 ... -0.02411085 -0.4619814\n",
              "    0.23772404]\n",
              "  ...\n",
              "  [-0.2834136   0.32660478  0.3768456  ... -0.31945014 -0.06113422\n",
              "   -0.08877126]\n",
              "  [-0.24768367  0.30930755  0.24915761 ... -0.18854985 -0.06394457\n",
              "   -0.32946852]\n",
              "  [-0.01505757 -0.15192392  0.07785311 ...  0.17069721 -0.22631994\n",
              "    0.0231608 ]]>,\n",
              " <Variable path=dense_86/bias, shape=(10,), dtype=float32, value=[-0.03523378 -0.08563285  0.02593778 -0.04322326 -0.01157144  0.00658666\n",
              "  -0.05776375 -0.04370015  0.16495024  0.00315441]>]"
            ]
          },
          "metadata": {},
          "execution_count": 293
        }
      ]
    }
  ]
}